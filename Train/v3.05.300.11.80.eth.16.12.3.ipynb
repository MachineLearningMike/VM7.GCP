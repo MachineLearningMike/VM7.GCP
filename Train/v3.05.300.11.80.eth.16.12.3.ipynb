{
 "cells": [
  {
   "cell_type": "code",
   "execution_count": 1,
   "metadata": {},
   "outputs": [
    {
     "name": "stderr",
     "output_type": "stream",
     "text": [
      "2023-06-21 03:40:52.462456: I tensorflow/core/platform/cpu_feature_guard.cc:193] This TensorFlow binary is optimized with oneAPI Deep Neural Network Library (oneDNN) to use the following CPU instructions in performance-critical operations:  AVX2 AVX512F AVX512_VNNI FMA\n",
      "To enable them in other operations, rebuild TensorFlow with the appropriate compiler flags.\n",
      "2023-06-21 03:40:52.640800: E tensorflow/stream_executor/cuda/cuda_blas.cc:2981] Unable to register cuBLAS factory: Attempting to register factory for plugin cuBLAS when one has already been registered\n",
      "2023-06-21 03:40:53.445542: W tensorflow/stream_executor/platform/default/dso_loader.cc:64] Could not load dynamic library 'libnvinfer.so.7'; dlerror: libnvinfer.so.7: cannot open shared object file: No such file or directory; LD_LIBRARY_PATH: /usr/local/cuda/lib64:/usr/local/nccl2/lib:/usr/local/cuda/extras/CUPTI/lib64\n",
      "2023-06-21 03:40:53.445649: W tensorflow/stream_executor/platform/default/dso_loader.cc:64] Could not load dynamic library 'libnvinfer_plugin.so.7'; dlerror: libnvinfer_plugin.so.7: cannot open shared object file: No such file or directory; LD_LIBRARY_PATH: /usr/local/cuda/lib64:/usr/local/nccl2/lib:/usr/local/cuda/extras/CUPTI/lib64\n",
      "2023-06-21 03:40:53.445660: W tensorflow/compiler/tf2tensorrt/utils/py_utils.cc:38] TF-TRT Warning: Cannot dlopen some TensorRT libraries. If you would like to use Nvidia GPU with TensorRT, please make sure the missing libraries mentioned above are installed properly.\n"
     ]
    },
    {
     "data": {
      "application/javascript": "\nconsole.log('Starting front end url_querystring_target comm target');\nconst comm = Jupyter.notebook.kernel.comm_manager.new_comm('url_querystring_target', {'init': 1});\ncomm.send({'ipyparams_browser_url': window.location.href});\nconsole.log('Sent window.location.href on url_querystring_target comm target');\n\ncomm.on_msg(function(msg) {\n    console.log(msg.content.data);\n});\n",
      "text/plain": [
       "<IPython.core.display.Javascript object>"
      ]
     },
     "metadata": {},
     "output_type": "display_data"
    },
    {
     "name": "stdout",
     "output_type": "stream",
     "text": [
      "python 3.7.12 | packaged by conda-forge | (default, Oct 26 2021, 06:08:21) \n",
      "[GCC 9.4.0]\n",
      "matplotlib 3.5.3\n",
      "numpy 1.21.6\n",
      "pandas 1.3.5\n",
      "sklearn 1.0.2\n",
      "tensorflow 2.10.1\n",
      "keras.api._v2.keras 2.10.0\n"
     ]
    }
   ],
   "source": [
    "import os\n",
    "import sys\n",
    "import time\n",
    "os.environ['TF_ENABLE_ONEDNN_OPTS'] = str(0)\n",
    "\n",
    "import numpy as np\n",
    "import pandas as pd\n",
    "import sklearn\n",
    "import tensorflow as tf\n",
    "from tensorflow import keras  # tf.keras\n",
    "import matplotlib as mpl\n",
    "import matplotlib.pyplot as plt\n",
    "import ipyparams\n",
    "import json\n",
    "\n",
    "print(\"python\", sys.version)\n",
    "for module in mpl, np, pd, sklearn, tf, keras:\n",
    "    print(module.__name__, module.__version__)\n",
    "\n",
    "assert sys.version_info >= (3, 5) # Python ≥3.5 required\n",
    "assert tf.__version__ >= \"2.0\"    # TensorFlow ≥2.0 required"
   ]
  },
  {
   "cell_type": "code",
   "execution_count": 2,
   "metadata": {},
   "outputs": [],
   "source": [
    "from test_utility import *"
   ]
  },
  {
   "cell_type": "code",
   "execution_count": 3,
   "metadata": {},
   "outputs": [
    {
     "name": "stdout",
     "output_type": "stream",
     "text": [
      "v3.05.300.11.80.eth.16.12\n"
     ]
    }
   ],
   "source": [
    "notebookName = None\n",
    "try:\n",
    "    notebookName = os.path.basename(globals()['__vsc_ipynb_file__'])\n",
    "except:\n",
    "    pass\n",
    "\n",
    "if type(notebookName) == str and len(notebookName.split('.')) > 1:  # looks like running on VSCode\n",
    "    pass\n",
    "else:  # looks like running on a browser\n",
    "    notebookName = ipyparams.notebook_name\n",
    "assert type(notebookName) == str and len(notebookName.split('.')) > 2\n",
    "notebookName = \".\".join(notebookName.split('.')[:-2])   # -2: gets rid of train version and file extention.\n",
    "print(notebookName)\n",
    "\n",
    "data_model = notebookName  #\"vm03.05.250.11.80.100.16.14.1\"\n",
    "assert len(notebookName.split('.')) >= 8"
   ]
  },
  {
   "cell_type": "code",
   "execution_count": 4,
   "metadata": {},
   "outputs": [],
   "source": [
    "dir_data = \"/mnt/data/Trading/\"\n",
    "\n",
    "#===================================================================== Dataset\n",
    "\n",
    "Nx = 300 # ------------- test\n",
    "Ny = 11\n",
    "Ns = 5 #--------------------- test\n",
    "BatchSize = 1024\n",
    "\n",
    "Shift = 0 # history:\n",
    "\n",
    "CandleFile = \"18-01-01-00-00-23-05-20-20-23-5m\"\n",
    "SmallSigma = 1\n",
    "LargeSigma = 30\n",
    "eFreeNoLog = True\n",
    "\n",
    "shuffle_batch = 10  # Keep it small to speed up model loading.\n",
    "\n",
    "dir_candles = os.path.join(dir_data, \"Candles\")\n",
    "\n",
    "min_true_candle_percent_x = 80\n",
    "chosen_markets_x = []\n",
    "chosen_fields_names_x = ['ClosePrice'] #, 'BaseVolume']\n",
    "min_true_candle_percent_y = 80\n",
    "assert min_true_candle_percent_x == min_true_candle_percent_y\n",
    "chosen_markets_y = []\n",
    "chosen_fields_names_y = ['ClosePrice']\n",
    "\n",
    "target_market_names = None\n",
    "# target_market_names = ['NEOUSDT', 'LTCUSDT', 'BTCUSDT', 'ETHUSDT', 'BNBUSDT', 'QTUMUSDT', 'ADAUSDT', 'XRPUSDT']\n",
    "target_market_names = ['ETHUSDT']\n",
    "tarket_market_top_percent = 15\n",
    "\n",
    "Standardization = True\n",
    "Kill_Irregulars = True  # ----------------- pls implement it\n",
    "Time_into_X = True\n",
    "Time_into_Y = False #\n",
    "eFreeNoPlot = True\n",
    "\n",
    "#======================================================================== Model\n",
    "\n",
    "Num_Layers = 16 # Wow\n",
    "Num_Heads = 1   # As we have a single GPU, and we want to a exhaustic attention.\n",
    "Factor_FF = 4\n",
    "repComplexity = 12  # Wower\n",
    "Dropout_Rate = 0.  # train\n",
    "\n",
    "dir_Checkpoint = os.path.join(dir_data, \"Checkpoints\")\n",
    "checkpoint_filepath = os.path.join(dir_Checkpoint, data_model)\n",
    "dir_CSVLogs = os.path.join(dir_data, \"CSVLogs\")\n",
    "csvLogger_filepath = os.path.join(dir_CSVLogs, data_model)\n",
    "\n",
    "#======================================================================== Train\n",
    "\n",
    "Epochs_Initial = 5000\n",
    "HuberThreshold = 4.0\n",
    "Checkpoint_Monitor = \"val_loss\"\n",
    "EarlyStopping_Min_Monitor = \"val_loss\"\n",
    "EarlyStopping_Patience = 30\n",
    "\n",
    "Optimizer = \"adam\"\n",
    "LR_initial = 1.e-5 # default: 1e-4\n",
    "LR_rate = 0./100\n",
    "LR_skip = 0\n",
    "\n",
    "#=============================================================== Checksum\n",
    "\n",
    "params = data_model.split('.')\n",
    "assert int(params[1]) == int(CandleFile.split('-')[-1][:-1])\n",
    "assert int(params[2]) == Nx\n",
    "assert int(params[3]) == Ny\n",
    "assert int(params[4]) == min_true_candle_percent_x\n",
    "assert int(params[6]) == Num_Layers\n",
    "assert int(params[7]) == repComplexity\n",
    "targets = params[5]\n",
    "if targets.isnumeric():\n",
    "    assert target_market_names is None\n",
    "    assert int(targets) == tarket_market_top_percent\n",
    "else:\n",
    "    for target in targets.split(','):\n",
    "        assert (target+'usdt').upper() in target_market_names\n",
    "\n",
    "#============================================================== Consistency\n",
    "folders = [dir_data, dir_candles, dir_Checkpoint, dir_CSVLogs]\n",
    "for folder in folders:\n",
    "    if not os.path.isdir(folder):\n",
    "        os.mkdir(folder)"
   ]
  },
  {
   "cell_type": "code",
   "execution_count": 5,
   "metadata": {},
   "outputs": [
    {
     "name": "stdout",
     "output_type": "stream",
     "text": [
      "[PhysicalDevice(name='/physical_device:GPU:0', device_type='GPU')]\n"
     ]
    }
   ],
   "source": [
    "gpus = tf.config.experimental.list_physical_devices('GPU')\n",
    "if gpus:\n",
    "    print(gpus)\n",
    "    try:\n",
    "        # Currently, memory growth needs to be the same across GPUs\n",
    "        for gpu in gpus:\n",
    "            tf.config.experimental.set_memory_growth(gpu, True)\n",
    "            # tf.config.experimental.set_virtual_device_configuration(\n",
    "            #     gpu,[tf.config.experimental.VirtualDeviceConfiguration(memory_limit=5120)]) # why 5120?\n",
    "            # logical_gpus = tf.config.experimental.list_logical_devices('GPU')\n",
    "            # print(len(gpus), \"Physical GPUs,\", len(logical_gpus), \"Logical GPUs\")\n",
    "    except RuntimeError as e:\n",
    "        # Memory growth must be set before GPUs have been initialized\n",
    "        print(e)\n",
    "\n",
    "mirrored_strategy = None\n",
    "if len(gpus) > 1: \n",
    "    mirrored_strategy = tf.distribute.MirroredStrategy()\n",
    "    LR_initial = LR_initial * len(gpus) * 3 / 4\n",
    "\n",
    "# tf.config.experimental.set_virtual_device_configuration(\n",
    "#     gpus[0],[tf.config.experimental.VirtualDeviceConfiguration(memory_limit=5120)])"
   ]
  },
  {
   "cell_type": "code",
   "execution_count": 6,
   "metadata": {},
   "outputs": [
    {
     "name": "stdout",
     "output_type": "stream",
     "text": [
      "(336, 565633, 10) 336 ['ALICEUSDT', 'DOTUSDT']\n"
     ]
    }
   ],
   "source": [
    "#==================== Load candle data into 'table' with shape of (time, markets, 10 fields) ====================\n",
    "Candles = np.load( os.path.join( dir_candles, \"table-\" + CandleFile + \".npy\") )\n",
    "\n",
    "with open( os.path.join( dir_candles, \"reports-\" + CandleFile + \".json\"), \"r\") as f:\n",
    "    reports = json.loads(f.read())\n",
    "\n",
    "all_market_names = [ s[0: s.find(':')] for s in reports if 'Success' in s ]\n",
    "assert Candles.shape[0] == len(all_market_names)\n",
    "print(Candles.shape, len(all_market_names), all_market_names[:2])\n",
    "\n",
    "all_field_names = ['ClosePrice', 'BaseVolume', 'BuyerBaseVolume']"
   ]
  },
  {
   "cell_type": "code",
   "execution_count": 7,
   "metadata": {},
   "outputs": [],
   "source": [
    "# market = 5\n",
    "# Show_Price_Volume_10(Candles[market, :, :], 1, 1, 500)\n",
    "# Event_Free_Learning_Scheme_10(Candles[market, :, :], 3, 30, 500)"
   ]
  },
  {
   "cell_type": "code",
   "execution_count": 8,
   "metadata": {},
   "outputs": [
    {
     "name": "stdout",
     "output_type": "stream",
     "text": [
      "(565633, 19, 1)\n",
      "(565633, 19)\n",
      "336\n",
      "((0, 1, 2, 3, 4, 5, 6, 7, 8, 9, 10, 11, 12, 13, 14, 15, 16, 17, 18), (0,))\n",
      "((0, 1, 2, 3, 4, 5, 6, 7, 8, 9, 10, 11, 12, 13, 14, 15, 16, 17, 18), (0,))\n",
      "['NEOUSDT', 'LTCUSDT', 'BTCUSDT', 'ETHUSDT', 'BNBUSDT', 'QTUMUSDT', 'ADAUSDT', 'XRPUSDT', 'EOSUSDT', 'XLMUSDT', 'IOTAUSDT', 'ONTUSDT', 'TRXUSDT', 'ETCUSDT', 'ICXUSDT', 'NULSUSDT', 'VETUSDT', 'LINKUSDT', 'WAVESUSDT']\n",
      "['ClosePrice']\n",
      "['NEOUSDT', 'LTCUSDT', 'BTCUSDT', 'ETHUSDT', 'BNBUSDT', 'QTUMUSDT', 'ADAUSDT', 'XRPUSDT', 'EOSUSDT', 'XLMUSDT', 'IOTAUSDT', 'ONTUSDT', 'TRXUSDT', 'ETCUSDT', 'ICXUSDT', 'NULSUSDT', 'VETUSDT', 'LINKUSDT', 'WAVESUSDT']\n",
      "['ClosePrice']\n",
      "['NEOUSDT', 'LTCUSDT', 'BTCUSDT', 'ETHUSDT', 'BNBUSDT', 'QTUMUSDT', 'ADAUSDT', 'XRPUSDT', 'EOSUSDT', 'XLMUSDT', 'IOTAUSDT', 'ONTUSDT', 'TRXUSDT', 'ETCUSDT', 'ICXUSDT', 'NULSUSDT', 'VETUSDT', 'LINKUSDT', 'WAVESUSDT']\n",
      "['ClosePrice']\n",
      "['ETHUSDT']\n",
      "(3,)\n",
      "19 19 1\n"
     ]
    }
   ],
   "source": [
    "Candles, CandleMarks, all_market_names, x_indices, y_indices, \\\n",
    "chosen_market_names_x, chosen_field_names_x, chosen_market_names_y, chosen_field_names_y, \\\n",
    "chosen_market_names, chosen_field_names, \\\n",
    "target_markets_names, target_markets = \\\n",
    "get_formed_data_2(\n",
    "        Candles, all_market_names, all_field_names, \n",
    "        min_true_candle_percent_x, chosen_fields_names_x, min_true_candle_percent_y, chosen_fields_names_y,\n",
    "        target_market_names, tarket_market_top_percent\n",
    ")\n",
    "\n",
    "print(Candles.shape)\n",
    "print(CandleMarks.shape)\n",
    "print(len(all_market_names))\n",
    "print(x_indices)\n",
    "print(y_indices)\n",
    "print(chosen_market_names_x)\n",
    "print(chosen_field_names_x)\n",
    "print(chosen_market_names_y)\n",
    "print(chosen_field_names_y)\n",
    "print(chosen_market_names)\n",
    "print(chosen_field_names)\n",
    "print(target_markets_names)\n",
    "print(target_markets)\n",
    "print(len(chosen_market_names_x), len(chosen_market_names_y), len(target_markets_names))"
   ]
  },
  {
   "cell_type": "code",
   "execution_count": 9,
   "metadata": {},
   "outputs": [],
   "source": [
    "# market = all_market_names.index(\"BNBUSDT\")\n",
    "# plt.plot(Candles[:, market, 0])\n",
    "# plt.show()"
   ]
  },
  {
   "cell_type": "code",
   "execution_count": 10,
   "metadata": {},
   "outputs": [
    {
     "name": "stdout",
     "output_type": "stream",
     "text": [
      "1514764800 300 (565633,) [1514764800 1514765100 1514765400]\n",
      "(565633, 19, 1) (565633, 4)\n",
      "[1514764800 1514765100 1514765400 1514765700 1514766000]\n"
     ]
    }
   ],
   "source": [
    "start_ts, interval_s, timestamps_abs = get_timestamps_2(CandleFile, Candles.shape[0])\n",
    "print(start_ts, interval_s, timestamps_abs.shape, timestamps_abs[:3])\n",
    "\n",
    "Times = get_time_features(timestamps_abs)\n",
    "Times = Times.astype(Candles.dtype)\n",
    "size_time = Times.shape[1]\n",
    "\n",
    "assert Candles.shape[0] == Times.shape[0]\n",
    "print(Candles.shape, Times.shape)\n",
    "print(timestamps_abs[:5])\n",
    "# print(Times[:5])    # Agnostic of restart of this training notebook."
   ]
  },
  {
   "cell_type": "code",
   "execution_count": 11,
   "metadata": {},
   "outputs": [
    {
     "name": "stdout",
     "output_type": "stream",
     "text": [
      "(565534, 19, 1) (565534, 4)\n"
     ]
    }
   ],
   "source": [
    "#==================== Generate event-free data into Data ====================\n",
    "# Data loses heading items.\n",
    "# Do it before: Permute Data in time\n",
    "\n",
    "alpha = 3; beta = 3 # beta is used in 'get_eFree_with_plot'. Ugly coupling.\n",
    "event_free_data_loss = 3 * ( alpha * SmallSigma + LargeSigma)\n",
    "eFree = np.zeros( (Candles.shape[0] - event_free_data_loss, len(chosen_market_names), len(chosen_field_names)), dtype = Candles.dtype )\n",
    "\n",
    "for market in range(Candles.shape[1]):\n",
    "    for field in range(Candles.shape[2]):\n",
    "        sSigma = SmallSigma\n",
    "        if all_field_names[field] == 'BaseVolume': sSigma = SmallSigma * alpha\n",
    "        P, maP, logP, log_maP, event, eventFree = \\\n",
    "        get_eFree_with_plot(all_market_names[market], all_field_names[field], Candles[:, market, field], sSigma,\n",
    "                            LargeSigma, Candles.shape[0] - event_free_data_loss, noPlot=eFreeNoPlot, noLog=eFreeNoLog)\n",
    "        assert Candles.shape[0] - event_free_data_loss == eventFree.shape[0]\n",
    "        eventFree = eventFree.astype(Candles.dtype)\n",
    "        Candles[event_free_data_loss:, market, field] = eventFree\n",
    "\n",
    "Candles = Candles[event_free_data_loss:]\n",
    "Times = Times[event_free_data_loss:]\n",
    "CandleMarks = CandleMarks[event_free_data_loss:]\n",
    "\n",
    "assert Candles.shape[0] == Times.shape[0]\n",
    "\n",
    "print(Candles.shape, Times.shape)\n",
    "# print(Candles[-3:]) # Agnostic of restart of this training notebook."
   ]
  },
  {
   "cell_type": "code",
   "execution_count": 12,
   "metadata": {},
   "outputs": [],
   "source": [
    "Standard = None\n",
    "\n",
    "if Standardization:\n",
    "    Candles, Standard = standardize_2(Candles)\n",
    "# print(Candles[-3:]) # Agnostic of restart of this training notebook."
   ]
  },
  {
   "cell_type": "code",
   "execution_count": 13,
   "metadata": {},
   "outputs": [],
   "source": [
    "# fig = plt.figure(figsize=(16,3))\n",
    "# ax = fig.add_subplot(111)\n",
    "# ax.set_title(\"Features are custom-standardized\" if Standardization else \"Features are not standardized\")\n",
    "# for market in range(Candles.shape[1]):\n",
    "#     for field in range(Candles.shape[2]):\n",
    "#         ax.plot(Candles[:, market, field], label = \"{} @ {}\".format(all_field_names[field], all_market_names[market][:-len('USDT')]))\n",
    "# ax.legend(loc = 'upper left')\n",
    "# plt.show()"
   ]
  },
  {
   "cell_type": "code",
   "execution_count": 14,
   "metadata": {},
   "outputs": [
    {
     "name": "stdout",
     "output_type": "stream",
     "text": [
      "(79130,) (33914,)\n",
      "[114810 560800 425890 153625  74645]\n"
     ]
    }
   ],
   "source": [
    "sample_anchores_t, sample_anchores_v = get_sample_anchors_3(Candles, Nx, Ny, Ns, seed=523)\n",
    "print(sample_anchores_t.shape, sample_anchores_v.shape)\n",
    "# print(sample_anchores_t) # Agnostic of restart of this training notebook.\n",
    "print(sample_anchores_t[:5])\n",
    "assert sample_anchores_t[0] == 114810 \n",
    "assert sample_anchores_t[1] == 560800"
   ]
  },
  {
   "cell_type": "code",
   "execution_count": 15,
   "metadata": {},
   "outputs": [
    {
     "name": "stderr",
     "output_type": "stream",
     "text": [
      "2023-06-21 03:41:12.266109: I tensorflow/core/platform/cpu_feature_guard.cc:193] This TensorFlow binary is optimized with oneAPI Deep Neural Network Library (oneDNN) to use the following CPU instructions in performance-critical operations:  AVX2 AVX512F AVX512_VNNI FMA\n",
      "To enable them in other operations, rebuild TensorFlow with the appropriate compiler flags.\n",
      "2023-06-21 03:41:12.943439: I tensorflow/core/common_runtime/gpu/gpu_device.cc:1616] Created device /job:localhost/replica:0/task:0/device:GPU:0 with 38239 MB memory:  -> device: 0, name: NVIDIA A100-SXM4-40GB, pci bus id: 0000:00:04.0, compute capability: 8.0\n"
     ]
    }
   ],
   "source": [
    "ds_train, ds_valid, dx, dy = \\\n",
    "get_datasets_3(\n",
    "    Candles, Time_into_X, Time_into_Y, Times, \n",
    "    sample_anchores_t, sample_anchores_v,\n",
    "    Nx, x_indices, Ny, y_indices, size_time, target_markets, Shift,\n",
    "    BatchSize, shuffle_batch, shuffle=(len(gpus)<=1)\n",
    ")"
   ]
  },
  {
   "cell_type": "code",
   "execution_count": 16,
   "metadata": {},
   "outputs": [
    {
     "name": "stdout",
     "output_type": "stream",
     "text": [
      "build. initial 1e-05\n"
     ]
    }
   ],
   "source": [
    "model = None\n",
    "\n",
    "if mirrored_strategy is None:\n",
    "    model = build_model_3(\n",
    "        dx, dy, Num_Layers, Num_Heads, Factor_FF, repComplexity, Dropout_Rate,\n",
    "        HuberThreshold, Optimizer, initial=LR_initial, rate=LR_rate, skip=LR_skip\n",
    "    )\n",
    "else:\n",
    "    with mirrored_strategy.scope():\n",
    "        model = build_model_3(\n",
    "            dx, dy, Num_Layers, Num_Heads, Factor_FF, repComplexity, Dropout_Rate,\n",
    "            HuberThreshold, Optimizer, initial=LR_initial, rate=LR_rate, skip=LR_skip\n",
    "        )\n"
   ]
  },
  {
   "cell_type": "code",
   "execution_count": 17,
   "metadata": {},
   "outputs": [
    {
     "name": "stdout",
     "output_type": "stream",
     "text": [
      "Loading a checkpoint...\n"
     ]
    }
   ],
   "source": [
    "model_loaded = False\n",
    "\n",
    "callbacks = get_callbacks(\n",
    "    checkpoint_filepath, Checkpoint_Monitor, \n",
    "    csvLogger_filepath, \n",
    "    EarlyStopping_Min_Monitor, EarlyStopping_Patience\n",
    ")\n",
    "\n",
    "try:\n",
    "    model.load_weights(checkpoint_filepath)\n",
    "    print(\"Loading a checkpoint...\")\n",
    "    model_loaded = True\n",
    "except:\n",
    "    print(\"No chekkpoint to load.\")\n",
    "    pass"
   ]
  },
  {
   "cell_type": "code",
   "execution_count": 18,
   "metadata": {},
   "outputs": [
    {
     "data": {
      "image/png": "[encoded data removed]",
      "text/plain": [
       "<Figure size 640x480 with 1 Axes>"
      ]
     },
     "metadata": {},
     "output_type": "display_data"
    }
   ],
   "source": [
    "if model_loaded:\n",
    "    try:\n",
    "        columns = ('loss', 'val_loss', 'mTA', 'val_mTA')\n",
    "        plot_csv_train_history(csvLogger_filepath, columns, title=data_model)\n",
    "    except:\n",
    "        pass\n",
    "else:\n",
    "    model.fit(\n",
    "        ds_train, # x and y_true\n",
    "        validation_data=ds_valid,\n",
    "        epochs=1, #Epochs_Initial,\n",
    "        callbacks=callbacks\n",
    "    )"
   ]
  },
  {
   "cell_type": "code",
   "execution_count": 19,
   "metadata": {},
   "outputs": [
    {
     "name": "stdout",
     "output_type": "stream",
     "text": [
      "Model: \"model\"\n",
      "__________________________________________________________________________________________________\n",
      " Layer (type)                   Output Shape         Param #     Connected to                     \n",
      "==================================================================================================\n",
      " candle_input_x (InputLayer)    [(None, None, 24)]   0           []                               \n",
      "                                                                                                  \n",
      " candle_input_y (InputLayer)    [(None, None, 24)]   0           []                               \n",
      "                                                                                                  \n",
      " trans (ConTransformer)         (None, None, 24)     385560      ['candle_input_x[0][0]',         \n",
      "                                                                  'candle_input_y[0][0]']         \n",
      "                                                                                                  \n",
      "==================================================================================================\n",
      "Total params: 385,560\n",
      "Trainable params: 385,560\n",
      "Non-trainable params: 0\n",
      "__________________________________________________________________________________________________\n"
     ]
    }
   ],
   "source": [
    "model.summary()"
   ]
  },
  {
   "cell_type": "code",
   "execution_count": 20,
   "metadata": {},
   "outputs": [
    {
     "name": "stdout",
     "output_type": "stream",
     "text": [
      "Epoch 1/5000\n"
     ]
    },
    {
     "name": "stderr",
     "output_type": "stream",
     "text": [
      "2023-06-21 03:42:20.274530: I tensorflow/stream_executor/cuda/cuda_blas.cc:1614] TensorFloat-32 will be used for the matrix multiplication. This will only be logged once.\n",
      "2023-06-21 03:42:20.990650: I tensorflow/stream_executor/cuda/cuda_dnn.cc:384] Loaded cuDNN version 8200\n"
     ]
    },
    {
     "name": "stdout",
     "output_type": "stream",
     "text": [
      "78/78 [==============================] - 142s 1s/step - loss: 0.1936 - mTA: 0.5370 - val_loss: 0.1493 - val_mTA: 0.6192\n",
      "Epoch 2/5000\n",
      "78/78 [==============================] - 62s 793ms/step - loss: 0.1065 - mTA: 0.5561 - val_loss: 0.0964 - val_mTA: 0.6192\n",
      "Epoch 3/5000\n",
      "78/78 [==============================] - 61s 790ms/step - loss: 0.0839 - mTA: 0.5645 - val_loss: 0.0829 - val_mTA: 0.6197\n",
      "Epoch 4/5000\n",
      "78/78 [==============================] - 62s 790ms/step - loss: 0.0709 - mTA: 0.5731 - val_loss: 0.0752 - val_mTA: 0.6236\n",
      "Epoch 5/5000\n",
      "78/78 [==============================] - 59s 759ms/step - loss: 0.0665 - mTA: 0.5789 - val_loss: 0.0889 - val_mTA: 0.6278\n",
      "Epoch 6/5000\n",
      "78/78 [==============================] - 59s 758ms/step - loss: 0.0636 - mTA: 0.5824 - val_loss: 0.0901 - val_mTA: 0.6318\n",
      "Epoch 7/5000\n",
      "78/78 [==============================] - 59s 760ms/step - loss: 0.0615 - mTA: 0.5861 - val_loss: 0.0845 - val_mTA: 0.6325\n",
      "Epoch 8/5000\n",
      "78/78 [==============================] - 59s 760ms/step - loss: 0.0601 - mTA: 0.5894 - val_loss: 0.0873 - val_mTA: 0.6366\n",
      "Epoch 9/5000\n",
      "78/78 [==============================] - 62s 791ms/step - loss: 0.0590 - mTA: 0.5919 - val_loss: 0.0726 - val_mTA: 0.6362\n",
      "Epoch 10/5000\n",
      "78/78 [==============================] - 59s 759ms/step - loss: 0.0578 - mTA: 0.5941 - val_loss: 0.0772 - val_mTA: 0.6363\n",
      "Epoch 11/5000\n",
      "78/78 [==============================] - 59s 759ms/step - loss: 0.0570 - mTA: 0.5957 - val_loss: 0.0765 - val_mTA: 0.6374\n",
      "Epoch 12/5000\n",
      "78/78 [==============================] - 62s 796ms/step - loss: 0.0563 - mTA: 0.5968 - val_loss: 0.0703 - val_mTA: 0.6386\n",
      "Epoch 13/5000\n",
      "78/78 [==============================] - 59s 759ms/step - loss: 0.0557 - mTA: 0.5991 - val_loss: 0.0746 - val_mTA: 0.6383\n",
      "Epoch 14/5000\n",
      "78/78 [==============================] - 59s 759ms/step - loss: 0.0549 - mTA: 0.6010 - val_loss: 0.0720 - val_mTA: 0.6397\n",
      "Epoch 15/5000\n",
      "78/78 [==============================] - 59s 760ms/step - loss: 0.0545 - mTA: 0.6022 - val_loss: 0.0711 - val_mTA: 0.6393\n",
      "Epoch 16/5000\n",
      "78/78 [==============================] - 59s 759ms/step - loss: 0.0543 - mTA: 0.6031 - val_loss: 0.0821 - val_mTA: 0.6420\n",
      "Epoch 17/5000\n",
      "78/78 [==============================] - 59s 759ms/step - loss: 0.0537 - mTA: 0.6043 - val_loss: 0.0801 - val_mTA: 0.6408\n",
      "Epoch 18/5000\n",
      "78/78 [==============================] - 59s 758ms/step - loss: 0.0538 - mTA: 0.6045 - val_loss: 0.0807 - val_mTA: 0.6411\n",
      "Epoch 19/5000\n",
      "78/78 [==============================] - 59s 759ms/step - loss: 0.0531 - mTA: 0.6056 - val_loss: 0.0735 - val_mTA: 0.6411\n",
      "Epoch 20/5000\n",
      "78/78 [==============================] - 62s 792ms/step - loss: 0.0527 - mTA: 0.6076 - val_loss: 0.0650 - val_mTA: 0.6426\n",
      "Epoch 21/5000\n",
      "78/78 [==============================] - 61s 787ms/step - loss: 0.0527 - mTA: 0.6073 - val_loss: 0.0649 - val_mTA: 0.6412\n",
      "Epoch 22/5000\n",
      "78/78 [==============================] - 59s 758ms/step - loss: 0.0523 - mTA: 0.6076 - val_loss: 0.0792 - val_mTA: 0.6424\n",
      "Epoch 23/5000\n",
      "78/78 [==============================] - 59s 758ms/step - loss: 0.0527 - mTA: 0.6085 - val_loss: 0.0667 - val_mTA: 0.6430\n",
      "Epoch 24/5000\n",
      "78/78 [==============================] - 59s 758ms/step - loss: 0.0515 - mTA: 0.6103 - val_loss: 0.0657 - val_mTA: 0.6442\n",
      "Epoch 25/5000\n",
      "78/78 [==============================] - 61s 789ms/step - loss: 0.0517 - mTA: 0.6099 - val_loss: 0.0602 - val_mTA: 0.6439\n",
      "Epoch 26/5000\n",
      "78/78 [==============================] - 59s 757ms/step - loss: 0.0514 - mTA: 0.6112 - val_loss: 0.0780 - val_mTA: 0.6440\n",
      "Epoch 27/5000\n",
      "78/78 [==============================] - 59s 757ms/step - loss: 0.0517 - mTA: 0.6105 - val_loss: 0.0647 - val_mTA: 0.6433\n",
      "Epoch 28/5000\n",
      "78/78 [==============================] - 59s 757ms/step - loss: 0.0513 - mTA: 0.6117 - val_loss: 0.0783 - val_mTA: 0.6453\n",
      "Epoch 29/5000\n",
      "78/78 [==============================] - 59s 758ms/step - loss: 0.0509 - mTA: 0.6125 - val_loss: 0.0778 - val_mTA: 0.6455\n",
      "Epoch 30/5000\n",
      "78/78 [==============================] - 59s 758ms/step - loss: 0.0518 - mTA: 0.6124 - val_loss: 0.0688 - val_mTA: 0.6466\n",
      "Epoch 31/5000\n",
      "78/78 [==============================] - 59s 758ms/step - loss: 0.0506 - mTA: 0.6130 - val_loss: 0.0611 - val_mTA: 0.6465\n",
      "Epoch 32/5000\n",
      "78/78 [==============================] - 59s 758ms/step - loss: 0.0508 - mTA: 0.6135 - val_loss: 0.0659 - val_mTA: 0.6472\n",
      "Epoch 33/5000\n",
      "78/78 [==============================] - 59s 762ms/step - loss: 0.0503 - mTA: 0.6138 - val_loss: 0.0694 - val_mTA: 0.6457\n",
      "Epoch 34/5000\n",
      "78/78 [==============================] - 59s 759ms/step - loss: 0.0500 - mTA: 0.6152 - val_loss: 0.0676 - val_mTA: 0.6458\n",
      "Epoch 35/5000\n",
      "78/78 [==============================] - 59s 757ms/step - loss: 0.0502 - mTA: 0.6150 - val_loss: 0.0709 - val_mTA: 0.6470\n",
      "Epoch 36/5000\n",
      "78/78 [==============================] - 59s 758ms/step - loss: 0.0500 - mTA: 0.6161 - val_loss: 0.0636 - val_mTA: 0.6479\n",
      "Epoch 37/5000\n",
      "78/78 [==============================] - 62s 797ms/step - loss: 0.0499 - mTA: 0.6167 - val_loss: 0.0566 - val_mTA: 0.6477\n",
      "Epoch 38/5000\n",
      "78/78 [==============================] - 59s 762ms/step - loss: 0.0496 - mTA: 0.6162 - val_loss: 0.0727 - val_mTA: 0.6466\n",
      "Epoch 39/5000\n",
      "78/78 [==============================] - 59s 764ms/step - loss: 0.0496 - mTA: 0.6171 - val_loss: 0.0725 - val_mTA: 0.6472\n",
      "Epoch 40/5000\n",
      "78/78 [==============================] - 59s 762ms/step - loss: 0.0499 - mTA: 0.6168 - val_loss: 0.0686 - val_mTA: 0.6476\n",
      "Epoch 41/5000\n",
      "78/78 [==============================] - 60s 765ms/step - loss: 0.0494 - mTA: 0.6171 - val_loss: 0.0653 - val_mTA: 0.6476\n",
      "Epoch 42/5000\n",
      "78/78 [==============================] - 59s 760ms/step - loss: 0.0492 - mTA: 0.6172 - val_loss: 0.0801 - val_mTA: 0.6483\n",
      "Epoch 43/5000\n",
      "78/78 [==============================] - 62s 798ms/step - loss: 0.0494 - mTA: 0.6168 - val_loss: 0.0562 - val_mTA: 0.6477\n",
      "Epoch 44/5000\n",
      "78/78 [==============================] - 59s 762ms/step - loss: 0.0492 - mTA: 0.6185 - val_loss: 0.0605 - val_mTA: 0.6485\n",
      "Epoch 45/5000\n",
      "78/78 [==============================] - 59s 761ms/step - loss: 0.0493 - mTA: 0.6178 - val_loss: 0.0739 - val_mTA: 0.6494\n",
      "Epoch 46/5000\n",
      "78/78 [==============================] - 59s 763ms/step - loss: 0.0489 - mTA: 0.6194 - val_loss: 0.0595 - val_mTA: 0.6486\n",
      "Epoch 47/5000\n",
      "78/78 [==============================] - 59s 758ms/step - loss: 0.0492 - mTA: 0.6192 - val_loss: 0.0578 - val_mTA: 0.6486\n",
      "Epoch 48/5000\n",
      "78/78 [==============================] - 59s 763ms/step - loss: 0.0487 - mTA: 0.6195 - val_loss: 0.0577 - val_mTA: 0.6486\n",
      "Epoch 49/5000\n",
      "78/78 [==============================] - 60s 765ms/step - loss: 0.0487 - mTA: 0.6201 - val_loss: 0.0675 - val_mTA: 0.6484\n",
      "Epoch 50/5000\n",
      "78/78 [==============================] - 59s 758ms/step - loss: 0.0487 - mTA: 0.6207 - val_loss: 0.0599 - val_mTA: 0.6498\n",
      "Epoch 51/5000\n",
      "78/78 [==============================] - 59s 760ms/step - loss: 0.0484 - mTA: 0.6205 - val_loss: 0.0745 - val_mTA: 0.6505\n",
      "Epoch 52/5000\n",
      "78/78 [==============================] - 59s 758ms/step - loss: 0.0487 - mTA: 0.6207 - val_loss: 0.0619 - val_mTA: 0.6494\n",
      "Epoch 53/5000\n",
      "78/78 [==============================] - 59s 755ms/step - loss: 0.0484 - mTA: 0.6208 - val_loss: 0.0620 - val_mTA: 0.6495\n",
      "Epoch 54/5000\n",
      "78/78 [==============================] - 59s 755ms/step - loss: 0.0484 - mTA: 0.6215 - val_loss: 0.0649 - val_mTA: 0.6493\n",
      "Epoch 55/5000\n",
      "78/78 [==============================] - 59s 756ms/step - loss: 0.0484 - mTA: 0.6215 - val_loss: 0.0566 - val_mTA: 0.6499\n",
      "Epoch 56/5000\n",
      "78/78 [==============================] - 59s 755ms/step - loss: 0.0485 - mTA: 0.6221 - val_loss: 0.0613 - val_mTA: 0.6510\n",
      "Epoch 57/5000\n",
      "78/78 [==============================] - 59s 755ms/step - loss: 0.0481 - mTA: 0.6228 - val_loss: 0.0578 - val_mTA: 0.6479\n",
      "Epoch 58/5000\n",
      "78/78 [==============================] - 59s 754ms/step - loss: 0.0482 - mTA: 0.6222 - val_loss: 0.0634 - val_mTA: 0.6478\n",
      "Epoch 59/5000\n",
      "78/78 [==============================] - 59s 754ms/step - loss: 0.0484 - mTA: 0.6218 - val_loss: 0.0563 - val_mTA: 0.6496\n",
      "Epoch 60/5000\n",
      "78/78 [==============================] - 59s 754ms/step - loss: 0.0484 - mTA: 0.6226 - val_loss: 0.0678 - val_mTA: 0.6509\n",
      "Epoch 61/5000\n",
      "78/78 [==============================] - 59s 757ms/step - loss: 0.0481 - mTA: 0.6218 - val_loss: 0.0642 - val_mTA: 0.6498\n",
      "Epoch 62/5000\n",
      "38/78 [=============>................] - ETA: 25s - loss: 0.0476 - mTA: 0.6219"
     ]
    }
   ],
   "source": [
    "model.fit(\n",
    "    ds_train, # x and y_true\n",
    "    validation_data=ds_valid,\n",
    "    epochs=Epochs_Initial,\n",
    "    callbacks=callbacks\n",
    ")"
   ]
  },
  {
   "cell_type": "code",
   "execution_count": null,
   "metadata": {},
   "outputs": [],
   "source": [
    "columns = ('loss', 'val_loss', 'mTA', 'val_mTA')\n",
    "plot_csv_train_history(csvLogger_filepath, columns, title=data_model)"
   ]
  }
 ],
 "metadata": {
  "kernelspec": {
   "display_name": "Python 3 (ipykernel)",
   "language": "python",
   "name": "python3"
  },
  "language_info": {
   "codemirror_mode": {
    "name": "ipython",
    "version": 3
   },
   "file_extension": ".py",
   "mimetype": "text/x-python",
   "name": "python",
   "nbconvert_exporter": "python",
   "pygments_lexer": "ipython3",
   "version": "3.7.12"
  }
 },
 "nbformat": 4,
 "nbformat_minor": 2
}
